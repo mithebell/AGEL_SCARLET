{
 "cells": [
  {
   "attachments": {},
   "cell_type": "markdown",
   "metadata": {},
   "source": [
    "# Generating NPZ File\n",
    "This script aims to generate all required information to be placed into SCARLET as fits files. Then combine the comeponents into a single NPZ file. The information required by SCARLET includes:\n",
    "- **Filters** (GRIZY)\n",
    "- **Image data** for each filter\n",
    "- **Weight map** of the image data for each filter\n",
    "- **Catalogue** of sources within the frame directly from DES\n",
    "- **PSF** of the image data for each filter"
   ]
  },
  {
   "cell_type": "code",
   "execution_count": 1,
   "metadata": {},
   "outputs": [],
   "source": [
    "# Import libraries\n",
    "from astropy.io import fits\n",
    "import numpy as np\n",
    "import matplotlib.pyplot as plt\n",
    "from astropy.visualization import simple_norm\n",
    "\n",
    "# PSF specific libraries\n",
    "from photutils.detection import find_peaks\n",
    "from astropy.table import Table\n",
    "from astropy.stats import sigma_clipped_stats\n",
    "from astropy.nddata import NDData\n",
    "from photutils.psf import extract_stars, EPSFBuilder\n",
    "from photutils.segmentation import detect_threshold\n",
    "\n",
    "# Catalogue conversion specific library\n",
    "from astropy.wcs import WCS"
   ]
  },
  {
   "cell_type": "code",
   "execution_count": 2,
   "metadata": {},
   "outputs": [
    {
     "name": "stdout",
     "output_type": "stream",
     "text": [
      "DESJ ID: DESJ233551.8640-515217.7600\n",
      "AGEL ID: AGEL233552-515218\n"
     ]
    }
   ],
   "source": [
    "# Enter the DESJ ID of the object\n",
    "desj_id = input('Please Enter the DESJ ID of the object: ')\n",
    "\n",
    "# Convert the DESJ ID into the corresponding AGEL ID\n",
    "agel_id = 'AGEL' + str(int(np.round(float(desj_id[4:15]))))\\\n",
    "    + str(int(np.round(float(desj_id[15:]))))\n",
    "print('DESJ ID: ' + desj_id)\n",
    "print('AGEL ID: ' + agel_id)"
   ]
  },
  {
   "cell_type": "code",
   "execution_count": 3,
   "metadata": {},
   "outputs": [
    {
     "data": {
      "text/plain": [
       "228"
      ]
     },
     "execution_count": 3,
     "metadata": {},
     "output_type": "execute_result"
    }
   ],
   "source": [
    "# load reference data for shape and conversions\n",
    "ref = fits.open(agel_id + '/' + desj_id + '_g.fits')\n",
    "ref_data = ref[0].data\n",
    "ref_data.shape[0]"
   ]
  },
  {
   "attachments": {},
   "cell_type": "markdown",
   "metadata": {},
   "source": [
    "### Filters\n",
    "SCARLET is able to import 5 filters and hence why ground based imaging is used. These filters are G, R, I, Z, Y."
   ]
  },
  {
   "cell_type": "code",
   "execution_count": 4,
   "metadata": {},
   "outputs": [],
   "source": [
    "# Filters will be an array of strings\n",
    "filters = np.array(['g','r','i','z','y'])"
   ]
  },
  {
   "attachments": {},
   "cell_type": "markdown",
   "metadata": {},
   "source": [
    "### Image Data\n",
    "For each filter, we will combine the image data together into a (5, x_dim, y_dim) shaped array"
   ]
  },
  {
   "cell_type": "code",
   "execution_count": 5,
   "metadata": {},
   "outputs": [],
   "source": [
    "# Empty image data array with shape (5, x_dim, y_dim)\n",
    "images = np.zeros((5, ref_data.shape[0], ref_data.shape[1]))\n",
    "\n",
    "# Create for loop to import image data for all 5 filters\n",
    "for i in range(5):\n",
    "    image_data = fits.open(agel_id + '/' + desj_id + '_' + filters[i] + '.fits')\n",
    "    images[i] = image_data[0].data"
   ]
  },
  {
   "attachments": {},
   "cell_type": "markdown",
   "metadata": {},
   "source": [
    "### Weight Map\n",
    "Extracted similarly to the image data, we will combine the weight maps into a (5, x_dim, y_dim) shaped array."
   ]
  },
  {
   "cell_type": "code",
   "execution_count": 6,
   "metadata": {},
   "outputs": [],
   "source": [
    "#  Empty weight array with shape (5, x_dim, y_dim)\n",
    "weights = np.zeros((5, ref_data.shape[0], ref_data.shape[1]))\n",
    "\n",
    "# Create for loop to import weight data for all 5 filters\n",
    "for j in range(5):\n",
    "    weight_data = fits.open(agel_id + '/' + desj_id + '_' + filters[j] + '.fits')\n",
    "    weights[j] = weight_data[2].data"
   ]
  },
  {
   "attachments": {},
   "cell_type": "markdown",
   "metadata": {},
   "source": [
    "### Catalogue\n",
    "List of x and y coordinates directly downloaded from the DES catalogue."
   ]
  },
  {
   "cell_type": "code",
   "execution_count": 7,
   "metadata": {},
   "outputs": [
    {
     "name": "stderr",
     "output_type": "stream",
     "text": [
      "WARNING: FITSFixedWarning: 'datfix' made the change 'Set DATE-OBS to '2013-09-08T06:13:31.709' from MJD-OBS'. [astropy.wcs.wcs]\n"
     ]
    }
   ],
   "source": [
    "# Import catalogue of objects\n",
    "catalogue_des = fits.open(agel_id + '/' + agel_id + '_catalogue.fits')\n",
    "catalogue_deg = catalogue_des[1].data\n",
    "\n",
    "# Converting RA and DEC into pixel coordinates\n",
    "wcs = WCS(header=ref[0].header) # function according to image_data (what we are mapping onto)\n",
    "\n",
    "ra_deg = catalogue_deg[\"RA\"] # list of RA coords\n",
    "dec_deg = catalogue_deg[\"DEC\"] # list of DEC coords\n",
    "ra_pix, dec_pix = wcs.all_world2pix(ra_deg, dec_deg, 0) # transformation from degrees to pixels\n",
    "\n",
    "\n",
    "# Limiting to pixel in the size of image\n",
    "x_pix = ra_pix[np.where(np.logical_and(np.logical_and(ra_pix>=0, ra_pix<=ref_data.shape[0]), \n",
    "                                           np.logical_and(dec_pix>=0, dec_pix<=ref_data.shape[1])))]\n",
    "y_pix = dec_pix[np.where(np.logical_and(np.logical_and(ra_pix>=0, ra_pix<=ref_data.shape[0]), \n",
    "                                           np.logical_and(dec_pix>=0, dec_pix<=ref_data.shape[1])))]\n",
    "\n",
    "# Generate an array of coordinate tuples\n",
    "catalogue = np.zeros((x_pix.size, y_pix.size), dtype=[('x_pix', '<f8'), ('y_pix', '<f8')])\n",
    "\n",
    "for k in range(x_pix.size):\n",
    "    catalogue[k] = (x_pix[k],y_pix[k])"
   ]
  },
  {
   "attachments": {},
   "cell_type": "markdown",
   "metadata": {},
   "source": [
    "### PSF\n",
    "Generate a PSF using the image data for each filter\n",
    "#### *To Be Automated*"
   ]
  },
  {
   "cell_type": "code",
   "execution_count": 8,
   "metadata": {},
   "outputs": [],
   "source": [
    "# Empty PSF array\n",
    "psfs = np.zeros((5, 101, 101)) # known shape\n",
    "\n",
    "for l in range(5):\n",
    "    psf_data = fits.open(agel_id + '/' + filters[l] + '_epsf.fits')\n",
    "    psfs[l] = psf_data[0].data"
   ]
  },
  {
   "attachments": {},
   "cell_type": "markdown",
   "metadata": {},
   "source": [
    "### Converting Multiple Fits Files into a Single NPZ FIle"
   ]
  },
  {
   "cell_type": "code",
   "execution_count": 9,
   "metadata": {},
   "outputs": [
    {
     "name": "stdout",
     "output_type": "stream",
     "text": [
      "['filters', 'images', 'weights', 'catalogue', 'psfs']\n"
     ]
    }
   ],
   "source": [
    "# Convert to NPZ\n",
    "np.savez_compressed(agel_id + '/' + agel_id + '_ALL', filters=filters,\n",
    "                    images=images, weights=weights, catalogue=catalogue, psfs=psfs)\n",
    "\n",
    "# Load the NPZ\n",
    "data = np.load(agel_id + '/' + agel_id + '_ALL.npz')\n",
    "\n",
    "# Ensure the NPZ contains all information\n",
    "print(data.files)\n",
    "#print(data['filters'])\n",
    "#print(data['images'])\n",
    "#print(data['weights'])\n",
    "#print(data['catalogue'])\n",
    "#print(data['psfs'])"
   ]
  }
 ],
 "metadata": {
  "kernelspec": {
   "display_name": "Python 3",
   "language": "python",
   "name": "python3"
  },
  "language_info": {
   "codemirror_mode": {
    "name": "ipython",
    "version": 3
   },
   "file_extension": ".py",
   "mimetype": "text/x-python",
   "name": "python",
   "nbconvert_exporter": "python",
   "pygments_lexer": "ipython3",
   "version": "3.8.10"
  },
  "orig_nbformat": 4
 },
 "nbformat": 4,
 "nbformat_minor": 2
}
