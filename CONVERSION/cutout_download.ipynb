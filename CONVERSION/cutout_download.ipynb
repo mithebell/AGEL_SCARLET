{
 "cells": [
  {
   "cell_type": "markdown",
   "id": "9467b715",
   "metadata": {},
   "source": [
    "# Retrieving Cutouts from the DESI Legacy Imaging Surveys\n",
    "## Author\n",
    "Michelle Ding\n",
    "## Date Created\n",
    "Thu Jan 20 13:34:14 2022\n",
    "## Purpose\n",
    "This script aims to import a list of coordinates (RA and DEC) in degrees decimal form and generate downloadable links. Specific to the object, these links will generate png or fits files of a chosen size.\n",
    "## Variables\n",
    "- **HMS_coord:** csv file of the list of objects and their corresponding coordinates in Hour/Degree:Minute:Second form\n",
    "- **ID:** array of strings containing the names of each object\n",
    "- **RA_HMS:** array of strings containing the RA coordinate of each object\n",
    "- **DEC_DMS:** array of strings containing the DEC coordinate of each object\n",
    "- **RA:** array of floats containing the RA coordinate of each object to 4 dp\n",
    "- **DEC:** array of floats containing the DEC coordinate of each object to 4 dp\n",
    "- **filetype:** file type of the output image\n",
    "- **size:** dimension of the image in pixels (using pixscale = 0.262 pixels/arcsecond)\n",
    "- **path:** location in which the image will be saved"
   ]
  },
  {
   "cell_type": "code",
   "execution_count": 1,
   "id": "69bbe923",
   "metadata": {},
   "outputs": [],
   "source": [
    "# import libraries\n",
    "import numpy as np\n",
    "import urllib.request as urlopen\n",
    "import ssl"
   ]
  },
  {
   "cell_type": "code",
   "execution_count": 2,
   "id": "a57109d1",
   "metadata": {},
   "outputs": [
    {
     "name": "stdout",
     "output_type": "stream",
     "text": [
      "Enter the path of the csv file: E:/GRAVITATIONAL LENSING/COORD/AGEL_coord.csv\n"
     ]
    }
   ],
   "source": [
    "# import csv file which includes the ID, RA, and DEC of each object\n",
    "csvfile = input('Enter the path of the csv file: ') #input the  csv file\n",
    "HMS_coord = np.genfromtxt(csvfile, delimiter=',', skip_header = 1, dtype='str')\n",
    "ID = HMS_coord[:,0] # name of objects\n",
    "RA_HMS = HMS_coord[:,1] # RA in HMS form\n",
    "DEC_DMS = HMS_coord[:,2] # DEC in DMS form"
   ]
  },
  {
   "cell_type": "code",
   "execution_count": 3,
   "id": "b93c0f38",
   "metadata": {},
   "outputs": [],
   "source": [
    "# convert RA and DEC into degrees decimal form\n",
    "\n",
    "# Let's convert RA first\n",
    "RA = np.zeros(len(ID)) # create an empty array\n",
    "\n",
    "for j in range(len(ID)):\n",
    "    # np.char.split(RA_HMS)[k] is a list storing Hour, Minute and Second separately\n",
    "    H, M, S = [float(i) for i in np.char.split(RA_HMS)[j]] # converts string to float\n",
    "    RA[j] = round(15*(H + (M/60) + (S/3600)), 4) # returns RA in DD form to 4dp\n",
    "\n",
    "\n",
    "# Next convert DEC\n",
    "DEC = np.zeros(len(ID)) # create an empty array\n",
    "\n",
    "for k in range(len(ID)):\n",
    "    dec_sign = 1 # assuming by default the DEC coordinate is positive\n",
    "    # np.char.split(DEC_DMS)[k] is a list storing Degrees, Minute and Second separately\n",
    "    D, M, S = [float(i) for i in np.char.split(DEC_DMS)[k]] # converts string to float\n",
    "    if str(D)[0] == '-': # confirms the sign of DEC\n",
    "        # ensures the negative sign is not used in the calculation\n",
    "        dec_sign, D = -1, abs(D) \n",
    "    deg = D + (M/60) + (S/3600) # returns magnitude of DEC\n",
    "    DEC[k] = '{0}'.format(deg*dec_sign) # returns DEC in DD form\n",
    "\n",
    "DEC = np.around(DEC, decimals = 4) #correct DEC in DD form to 4dp"
   ]
  },
  {
   "cell_type": "code",
   "execution_count": 4,
   "id": "955e2567",
   "metadata": {
    "scrolled": true
   },
   "outputs": [
    {
     "name": "stdout",
     "output_type": "stream",
     "text": [
      "Enter the type of file required (fits or jpeg): jpeg\n",
      "Enter the size of the image in pixels (e.g. 1'=229 px): 229\n",
      "Enter the path to the location of the output image: E:/GRAVITATIONAL LENSING/AGEL 1' and 3'/Demonstration/\n"
     ]
    }
   ],
   "source": [
    "# construct links to download fits or jpeg images\n",
    "\n",
    "# determine the type of image\n",
    "filetype = input('Enter the type of file required (fits or jpeg): ')\n",
    "\n",
    "# determine the size of image\n",
    "size = input(\"Enter the size of the image in pixels (e.g. 1'=229 px): \")\n",
    "\n",
    "# select the path to the location of the image\n",
    "path = input('Enter the path to the location of the output image: ')\n",
    "\n",
    "for n in range(len(ID)):\n",
    "    # generates a link to download image\n",
    "    link = 'https://www.legacysurvey.org/viewer/' + filetype +\\\n",
    "            '-cutout?ra=' + str(RA[n]) + '&dec=' + str(DEC[n]) +\\\n",
    "            '&size=' + size + '&layer=ls-dr9&pixscale=0.262&bands=grz'\n",
    "    \n",
    "    def main(): # function to save images as different names depending on the size\n",
    "        ssl._create_default_https_context = ssl._create_unverified_context\n",
    "        if size == '229': # 1' images\n",
    "            r = urlopen.urlretrieve(link, path + ID[n] + \"_1'.\" + filetype)\n",
    "        if size == '687': # 3' images\n",
    "            r = urlopen.urlretrieve(link, path + ID[n] + \"_3'.\" + filetype)\n",
    "        \n",
    "    if __name__ == '__main__':\n",
    "        main()"
   ]
  }
 ],
 "metadata": {
  "kernelspec": {
   "display_name": "Python 3 (ipykernel)",
   "language": "python",
   "name": "python3"
  },
  "language_info": {
   "codemirror_mode": {
    "name": "ipython",
    "version": 3
   },
   "file_extension": ".py",
   "mimetype": "text/x-python",
   "name": "python",
   "nbconvert_exporter": "python",
   "pygments_lexer": "ipython3",
   "version": "3.9.12"
  }
 },
 "nbformat": 4,
 "nbformat_minor": 5
}
